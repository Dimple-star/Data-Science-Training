{
 "cells": [
  {
   "cell_type": "markdown",
   "metadata": {},
   "source": [
    "# Polynomial Regression"
   ]
  },
  {
   "cell_type": "markdown",
   "metadata": {},
   "source": [
    "Polynomial regression is a special case of linear regression where we fit a polynomial equation on the data with a curvilinear relationship between the target variable and the independent variables.\n",
    "\n",
    "In a curvilinear relationship, the value of the target variable changes in a non-uniform manner with respect to the predictor (s).\n"
   ]
  },
  {
   "cell_type": "markdown",
   "metadata": {},
   "source": [
    "# Lets understand the need for polynomial regression"
   ]
  },
  {
   "cell_type": "code",
   "execution_count": 1,
   "metadata": {},
   "outputs": [],
   "source": [
    "import pandas as pd\n",
    "import matplotlib.pyplot as plt\n",
    "from sklearn.linear_model import LinearRegression"
   ]
  },
  {
   "cell_type": "code",
   "execution_count": 2,
   "metadata": {},
   "outputs": [
    {
     "data": {
      "image/png": "[encoded data removed]",
      "text/plain": [
       "<Figure size 432x288 with 1 Axes>"
      ]
     },
     "metadata": {
      "needs_background": "light"
     },
     "output_type": "display_data"
    }
   ],
   "source": [
    "data = pd.read_csv('polynomial_fish.csv')\n",
    "x=data.iloc[:,1:2].values\n",
    "y= data.iloc[:,-1].values\n",
    "plt.scatter(x,y)\n",
    "plt.show()"
   ]
  },
  {
   "cell_type": "markdown",
   "metadata": {},
   "source": [
    "# Let’s apply a linear regression model to this dataset"
   ]
  },
  {
   "cell_type": "code",
   "execution_count": 38,
   "metadata": {},
   "outputs": [
    {
     "data": {
      "text/plain": [
       "LinearRegression()"
      ]
     },
     "execution_count": 38,
     "metadata": {},
     "output_type": "execute_result"
    }
   ],
   "source": [
    "regressor = LinearRegression()\n",
    "regressor.fit(x,y)"
   ]
  },
  {
   "cell_type": "code",
   "execution_count": 39,
   "metadata": {},
   "outputs": [],
   "source": [
    "y_pred = regressor.predict(x)"
   ]
  },
  {
   "cell_type": "code",
   "execution_count": 40,
   "metadata": {},
   "outputs": [
    {
     "data": {
      "image/png": "[encoded data removed]",
      "text/plain": [
       "<Figure size 432x288 with 1 Axes>"
      ]
     },
     "metadata": {
      "needs_background": "light"
     },
     "output_type": "display_data"
    }
   ],
   "source": [
    "plt.scatter(x, y, s=10)\n",
    "plt.plot(x, y_pred, color='r')\n",
    "plt.show()"
   ]
  },
  {
   "cell_type": "code",
   "execution_count": 42,
   "metadata": {},
   "outputs": [
    {
     "data": {
      "text/plain": [
       "-90004.68257519293"
      ]
     },
     "execution_count": 42,
     "metadata": {},
     "output_type": "execute_result"
    }
   ],
   "source": [
    "# accuracy metrics\n",
    "from sklearn.metrics import r2_score\n",
    "r2score = r2_score(x, regressor.predict(x))\n",
    "r2score"
   ]
  },
  {
   "cell_type": "markdown",
   "metadata": {},
   "source": [
    "### We can see that the straight line is unable to capture the patterns in the data.\n",
    "\n",
    "So for such cases, where data points are arranged in a non-linear fashion, we need the Polynomial Regression model. "
   ]
  },
  {
   "attachments": {
    "image.png": {
     "image/png": "[encoded data removed]"
    }
   },
   "cell_type": "markdown",
   "metadata": {},
   "source": [
    "# Equation of the Polynomial Regression Model\n",
    "\n",
    "![image.png](attachment:image.png)"
   ]
  },
  {
   "cell_type": "markdown",
   "metadata": {},
   "source": [
    "# Building the Polynomial regression model\n",
    "\n",
    "It will be a little different from the Simple Linear model. \n",
    "\n",
    "Because here we will use PolynomialFeatures class of preprocessing library. \n",
    "\n",
    "We are using this class to add some extra features to our dataset."
   ]
  },
  {
   "cell_type": "code",
   "execution_count": 6,
   "metadata": {},
   "outputs": [],
   "source": [
    "# Splitting the dataset into the Training set and Test set\n",
    "from sklearn.model_selection import train_test_split\n",
    "x_train, x_test, y_train, y_test = train_test_split(x, y, test_size = 0.2, random_state = 0)"
   ]
  },
  {
   "cell_type": "code",
   "execution_count": 32,
   "metadata": {},
   "outputs": [],
   "source": [
    "from sklearn.preprocessing import PolynomialFeatures\n",
    "polynomial_features= PolynomialFeatures(degree=4)\n",
    " # converting our feature matrix into polynomial feature matrix and then fitting it to the Polynomial regression model\n",
    "x_poly = polynomial_features.fit_transform(x_train)"
   ]
  },
  {
   "cell_type": "code",
   "execution_count": 33,
   "metadata": {},
   "outputs": [
    {
     "data": {
      "text/plain": [
       "array([[1.00000000e+00, 6.14400000e+00, 3.77487360e+01, 2.31928234e+02,\n",
       "        1.42496707e+03],\n",
       "       [1.00000000e+00, 4.38440000e+00, 1.92229634e+01, 8.42811606e+01,\n",
       "        3.69522320e+02],\n",
       "       [1.00000000e+00, 5.28540000e+00, 2.79354532e+01, 1.47650044e+02,\n",
       "        7.80389543e+02],\n",
       "       [1.00000000e+00, 3.72300000e+00, 1.38607290e+01, 5.16034941e+01,\n",
       "        1.92119808e+02],\n",
       "       [1.00000000e+00, 4.63540000e+00, 2.14869332e+01, 9.96005300e+01,\n",
       "        4.61688297e+02],\n",
       "       [1.00000000e+00, 5.28010000e+00, 2.78794560e+01, 1.47206316e+02,\n",
       "        7.77264067e+02],\n",
       "       [1.00000000e+00, 6.74080000e+00, 4.54383846e+01, 3.06291063e+02,\n",
       "        2.06464680e+03],\n",
       "       [1.00000000e+00, 3.52500000e+00, 1.24256250e+01, 4.38003281e+01,\n",
       "        1.54396157e+02],\n",
       "       [1.00000000e+00, 6.01800000e+00, 3.62163240e+01, 2.17949838e+02,\n",
       "        1.31162212e+03],\n",
       "       [1.00000000e+00, 2.43200000e+00, 5.91462400e+00, 1.43843656e+01,\n",
       "        3.49827771e+01],\n",
       "       [1.00000000e+00, 3.82500000e+00, 1.46306250e+01, 5.59621406e+01,\n",
       "        2.14055188e+02],\n",
       "       [1.00000000e+00, 5.85150000e+00, 3.42400522e+01, 2.00355666e+02,\n",
       "        1.17238118e+03],\n",
       "       [1.00000000e+00, 2.06720000e+00, 4.27331584e+00, 8.83379850e+00,\n",
       "        1.82612283e+01],\n",
       "       [1.00000000e+00, 4.23900000e+00, 1.79691210e+01, 7.61711039e+01,\n",
       "        3.22889310e+02],\n",
       "       [1.00000000e+00, 3.90600000e+00, 1.52568360e+01, 5.95932014e+01,\n",
       "        2.32771045e+02],\n",
       "       [1.00000000e+00, 4.14400000e+00, 1.71727360e+01, 7.11638180e+01,\n",
       "        2.94902862e+02],\n",
       "       [1.00000000e+00, 5.13380000e+00, 2.63559024e+01, 1.35305932e+02,\n",
       "        6.94633593e+02],\n",
       "       [1.00000000e+00, 4.77160000e+00, 2.27681666e+01, 1.08640584e+02,\n",
       "        5.18389409e+02],\n",
       "       [1.00000000e+00, 6.30630000e+00, 3.97694197e+01, 2.50797891e+02,\n",
       "        1.58160674e+03],\n",
       "       [1.00000000e+00, 1.99920000e+00, 3.99680064e+00, 7.99040384e+00,\n",
       "        1.59744154e+01],\n",
       "       [1.00000000e+00, 1.25580000e+00, 1.57703364e+00, 1.98043885e+00,\n",
       "        2.48703510e+00],\n",
       "       [1.00000000e+00, 4.69610000e+00, 2.20533552e+01, 1.03564761e+02,\n",
       "        4.86350476e+02],\n",
       "       [1.00000000e+00, 3.03680000e+00, 9.22215424e+00, 2.80058380e+01,\n",
       "        8.50481288e+01],\n",
       "       [1.00000000e+00, 3.75440000e+00, 1.40955194e+01, 5.29202179e+01,\n",
       "        1.98683666e+02],\n",
       "       [1.00000000e+00, 4.23400000e+00, 1.79267560e+01, 7.59018849e+01,\n",
       "        3.21368581e+02],\n",
       "       [1.00000000e+00, 5.10420000e+00, 2.60528576e+01, 1.32978996e+02,\n",
       "        6.78751391e+02],\n",
       "       [1.00000000e+00, 1.28520000e+00, 1.65173904e+00, 2.12281501e+00,\n",
       "        2.72824186e+00],\n",
       "       [1.00000000e+00, 4.57650000e+00, 2.09443523e+01, 9.58518281e+01,\n",
       "        4.38665891e+02],\n",
       "       [1.00000000e+00, 1.14840000e+00, 1.31882256e+00, 1.51453583e+00,\n",
       "        1.73929294e+00],\n",
       "       [1.00000000e+00, 1.16000000e+00, 1.34560000e+00, 1.56089600e+00,\n",
       "        1.81063936e+00],\n",
       "       [1.00000000e+00, 3.29440000e+00, 1.08530714e+01, 3.57543583e+01,\n",
       "        1.17789158e+02],\n",
       "       [1.00000000e+00, 3.63000000e+00, 1.31769000e+01, 4.78321470e+01,\n",
       "        1.73630694e+02],\n",
       "       [1.00000000e+00, 3.62600000e+00, 1.31478760e+01, 4.76741984e+01,\n",
       "        1.72866643e+02],\n",
       "       [1.00000000e+00, 1.04760000e+00, 1.09746576e+00, 1.14970513e+00,\n",
       "        1.20443109e+00],\n",
       "       [1.00000000e+00, 6.98490000e+00, 4.87888280e+01, 3.40785085e+02,\n",
       "        2.38034974e+03],\n",
       "       [1.00000000e+00, 7.41650000e+00, 5.50044722e+01, 4.07940668e+02,\n",
       "        3.02549197e+03],\n",
       "       [1.00000000e+00, 6.63000000e+00, 4.39569000e+01, 2.91434247e+02,\n",
       "        1.93220906e+03],\n",
       "       [1.00000000e+00, 4.12720000e+00, 1.70337798e+01, 7.03018162e+01,\n",
       "        2.90149656e+02],\n",
       "       [1.00000000e+00, 4.16580000e+00, 1.73538896e+01, 7.22928335e+01,\n",
       "        3.01157486e+02],\n",
       "       [1.00000000e+00, 3.62400000e+00, 1.31333760e+01, 4.75953546e+01,\n",
       "        1.72485565e+02],\n",
       "       [1.00000000e+00, 2.91810000e+00, 8.51530761e+00, 2.48485191e+01,\n",
       "        7.25104637e+01],\n",
       "       [1.00000000e+00, 7.35140000e+00, 5.40430820e+01, 3.97292313e+02,\n",
       "        2.92065471e+03],\n",
       "       [1.00000000e+00, 4.20420000e+00, 1.76752976e+01, 7.43104863e+01,\n",
       "        3.12416147e+02],\n",
       "       [1.00000000e+00, 3.66360000e+00, 1.34219650e+01, 4.91727108e+01,\n",
       "        1.80149143e+02],\n",
       "       [1.00000000e+00, 3.63120000e+00, 1.31856134e+01, 4.78795995e+01,\n",
       "        1.73860402e+02],\n",
       "       [1.00000000e+00, 3.83520000e+00, 1.47087590e+01, 5.64110327e+01,\n",
       "        2.16347592e+02],\n",
       "       [1.00000000e+00, 5.07280000e+00, 2.57332998e+01, 1.30539883e+02,\n",
       "        6.62202721e+02],\n",
       "       [1.00000000e+00, 4.87000000e+00, 2.37169000e+01, 1.15501303e+02,\n",
       "        5.62491346e+02],\n",
       "       [1.00000000e+00, 6.13060000e+00, 3.75842564e+01, 2.30414042e+02,\n",
       "        1.41257633e+03],\n",
       "       [1.00000000e+00, 7.79570000e+00, 6.07729385e+01, 4.73767597e+02,\n",
       "        3.69335005e+03],\n",
       "       [1.00000000e+00, 5.56950000e+00, 3.10193302e+01, 1.72762160e+02,\n",
       "        9.62198849e+02],\n",
       "       [1.00000000e+00, 5.58000000e+00, 3.11364000e+01, 1.73741112e+02,\n",
       "        9.69475405e+02],\n",
       "       [1.00000000e+00, 3.12340000e+00, 9.75562756e+00, 3.04707271e+01,\n",
       "        9.51722691e+01],\n",
       "       [1.00000000e+00, 4.49680000e+00, 2.02212102e+01, 9.09307382e+01,\n",
       "        4.08897344e+02],\n",
       "       [1.00000000e+00, 2.94150000e+00, 8.65242225e+00, 2.54511000e+01,\n",
       "        7.48644108e+01],\n",
       "       [1.00000000e+00, 4.45550000e+00, 1.98514802e+01, 8.84482703e+01,\n",
       "        3.94081268e+02],\n",
       "       [1.00000000e+00, 1.87920000e+00, 3.53139264e+00, 6.63619305e+00,\n",
       "        1.24707340e+01],\n",
       "       [1.00000000e+00, 4.45900000e+00, 1.98826810e+01, 8.86568746e+01,\n",
       "        3.95321004e+02],\n",
       "       [1.00000000e+00, 5.27850000e+00, 2.78625623e+01, 1.47072535e+02,\n",
       "        7.76322375e+02],\n",
       "       [1.00000000e+00, 3.15710000e+00, 9.96728041e+00, 3.14677010e+01,\n",
       "        9.93466788e+01],\n",
       "       [1.00000000e+00, 2.63160000e+00, 6.92531856e+00, 1.82246683e+01,\n",
       "        4.79600372e+01],\n",
       "       [1.00000000e+00, 3.66750000e+00, 1.34505562e+01, 4.93299150e+01,\n",
       "        1.80917463e+02],\n",
       "       [1.00000000e+00, 6.86400000e+00, 4.71144960e+01, 3.23393901e+02,\n",
       "        2.21977573e+03],\n",
       "       [1.00000000e+00, 4.36800000e+00, 1.90794240e+01, 8.33389240e+01,\n",
       "        3.64024420e+02],\n",
       "       [1.00000000e+00, 7.46240000e+00, 5.56874138e+01, 4.15561756e+02,\n",
       "        3.10108805e+03],\n",
       "       [1.00000000e+00, 5.17080000e+00, 2.67371726e+01, 1.38252572e+02,\n",
       "        7.14876401e+02],\n",
       "       [1.00000000e+00, 6.86840000e+00, 4.71749186e+01, 3.24016211e+02,\n",
       "        2.22547294e+03],\n",
       "       [1.00000000e+00, 3.62400000e+00, 1.31333760e+01, 4.75953546e+01,\n",
       "        1.72485565e+02],\n",
       "       [1.00000000e+00, 5.12960000e+00, 2.63127962e+01, 1.34974119e+02,\n",
       "        6.92363242e+02],\n",
       "       [1.00000000e+00, 3.32500000e+00, 1.10556250e+01, 3.67599531e+01,\n",
       "        1.22226844e+02],\n",
       "       [1.00000000e+00, 4.81460000e+00, 2.31803732e+01, 1.11604225e+02,\n",
       "        5.37329700e+02],\n",
       "       [1.00000000e+00, 5.13730000e+00, 2.63918513e+01, 1.35582858e+02,\n",
       "        6.96529815e+02],\n",
       "       [1.00000000e+00, 2.26800000e+00, 5.14382400e+00, 1.16661928e+01,\n",
       "        2.64589253e+01],\n",
       "       [1.00000000e+00, 4.68160000e+00, 2.19173786e+01, 1.02608399e+02,\n",
       "        4.80371483e+02],\n",
       "       [1.00000000e+00, 3.39570000e+00, 1.15307785e+01, 3.91550645e+01,\n",
       "        1.32958853e+02],\n",
       "       [1.00000000e+00, 1.26900000e+00, 1.61036100e+00, 2.04354811e+00,\n",
       "        2.59326255e+00],\n",
       "       [1.00000000e+00, 3.29280000e+00, 1.08425318e+01, 3.57022888e+01,\n",
       "        1.17560497e+02],\n",
       "       [1.00000000e+00, 4.30560000e+00, 1.85381914e+01, 7.98180367e+01,\n",
       "        3.43664539e+02],\n",
       "       [1.00000000e+00, 4.15800000e+00, 1.72889640e+01, 7.18875123e+01,\n",
       "        2.98908276e+02],\n",
       "       [1.00000000e+00, 1.14840000e+00, 1.31882256e+00, 1.51453583e+00,\n",
       "        1.73929294e+00],\n",
       "       [1.00000000e+00, 3.29430000e+00, 1.08524125e+01, 3.57511025e+01,\n",
       "        1.17774857e+02],\n",
       "       [1.00000000e+00, 4.56620000e+00, 2.08501824e+01, 9.52061031e+01,\n",
       "        4.34730108e+02],\n",
       "       [1.00000000e+00, 5.13400000e+00, 2.63579560e+01, 1.35321746e+02,\n",
       "        6.94741844e+02],\n",
       "       [1.00000000e+00, 4.89600000e+00, 2.39708160e+01, 1.17361115e+02,\n",
       "        5.74600020e+02],\n",
       "       [1.00000000e+00, 5.19750000e+00, 2.70140062e+01, 1.40405297e+02,\n",
       "        7.29756534e+02],\n",
       "       [1.00000000e+00, 7.49340000e+00, 5.61510436e+01, 4.20762230e+02,\n",
       "        3.15293969e+03],\n",
       "       [1.00000000e+00, 4.33500000e+00, 1.87922250e+01, 8.14642954e+01,\n",
       "        3.53147720e+02],\n",
       "       [1.00000000e+00, 3.17460000e+00, 1.00780852e+01, 3.19938891e+01,\n",
       "        1.01567800e+02],\n",
       "       [1.00000000e+00, 4.92740000e+00, 2.42792708e+01, 1.19633679e+02,\n",
       "        5.89482989e+02],\n",
       "       [1.00000000e+00, 4.77360000e+00, 2.27872570e+01, 1.08777250e+02,\n",
       "        5.19259080e+02],\n",
       "       [1.00000000e+00, 1.16590000e+00, 1.35932281e+00, 1.58483446e+00,\n",
       "        1.84775850e+00],\n",
       "       [1.00000000e+00, 7.27720000e+00, 5.29576398e+01, 3.85383337e+02,\n",
       "        2.80451162e+03],\n",
       "       [1.00000000e+00, 4.02000000e+00, 1.61604000e+01, 6.49648080e+01,\n",
       "        2.61158528e+02],\n",
       "       [1.00000000e+00, 6.37050000e+00, 4.05832702e+01, 2.58535723e+02,\n",
       "        1.64700182e+03],\n",
       "       [1.00000000e+00, 6.19840000e+00, 3.84201626e+01, 2.38143536e+02,\n",
       "        1.47610889e+03],\n",
       "       [1.00000000e+00, 4.24760000e+00, 1.80421058e+01, 7.66356484e+01,\n",
       "        3.25517580e+02],\n",
       "       [1.00000000e+00, 6.26460000e+00, 3.92452132e+01, 2.45855562e+02,\n",
       "        1.54018676e+03],\n",
       "       [1.00000000e+00, 6.29200000e+00, 3.95892640e+01, 2.49095649e+02,\n",
       "        1.56730982e+03],\n",
       "       [1.00000000e+00, 3.97700000e+00, 1.58165290e+01, 6.29023358e+01,\n",
       "        2.50162590e+02],\n",
       "       [1.00000000e+00, 7.59580000e+00, 5.76961776e+01, 4.38248626e+02,\n",
       "        3.32884891e+03],\n",
       "       [1.00000000e+00, 5.37600000e+00, 2.89013760e+01, 1.55373797e+02,\n",
       "        8.35289535e+02],\n",
       "       [1.00000000e+00, 6.74970000e+00, 4.55584501e+01, 3.07505871e+02,\n",
       "        2.07557237e+03],\n",
       "       [1.00000000e+00, 6.60300000e+00, 4.35996090e+01, 2.87888218e+02,\n",
       "        1.90092590e+03],\n",
       "       [1.00000000e+00, 3.68350000e+00, 1.35681722e+01, 4.99783625e+01,\n",
       "        1.84095298e+02],\n",
       "       [1.00000000e+00, 3.55500000e+00, 1.26380250e+01, 4.49281789e+01,\n",
       "        1.59719676e+02],\n",
       "       [1.00000000e+00, 3.05020000e+00, 9.30372004e+00, 2.83782069e+01,\n",
       "        8.65592066e+01],\n",
       "       [1.00000000e+00, 6.36660000e+00, 4.05335956e+01, 2.58061189e+02,\n",
       "        1.64297237e+03],\n",
       "       [1.00000000e+00, 1.39360000e+00, 1.94212096e+00, 2.70653977e+00,\n",
       "        3.77183382e+00],\n",
       "       [1.00000000e+00, 1.40800000e+00, 1.98246400e+00, 2.79130931e+00,\n",
       "        3.93016351e+00],\n",
       "       [1.00000000e+00, 3.32160000e+00, 1.10330266e+01, 3.66473010e+01,\n",
       "        1.21727675e+02],\n",
       "       [1.00000000e+00, 6.05320000e+00, 3.66412302e+01, 2.21796695e+02,\n",
       "        1.34257975e+03],\n",
       "       [1.00000000e+00, 2.77200000e+00, 7.68398400e+00, 2.13000036e+01,\n",
       "        5.90436101e+01],\n",
       "       [1.00000000e+00, 1.27720000e+00, 1.63123984e+00, 2.08341952e+00,\n",
       "        2.66094342e+00],\n",
       "       [1.00000000e+00, 1.28380000e+00, 1.64814244e+00, 2.11588526e+00,\n",
       "        2.71637350e+00],\n",
       "       [1.00000000e+00, 3.57420000e+00, 1.27749056e+01, 4.56600677e+01,\n",
       "        1.63198214e+02],\n",
       "       [1.00000000e+00, 6.56200000e+00, 4.30598440e+01, 2.82558696e+02,\n",
       "        1.85415017e+03],\n",
       "       [1.00000000e+00, 6.17120000e+00, 3.80837094e+01, 2.35022188e+02,\n",
       "        1.45036892e+03],\n",
       "       [1.00000000e+00, 3.52500000e+00, 1.24256250e+01, 4.38003281e+01,\n",
       "        1.54396157e+02],\n",
       "       [1.00000000e+00, 4.14400000e+00, 1.71727360e+01, 7.11638180e+01,\n",
       "        2.94902862e+02],\n",
       "       [1.00000000e+00, 3.52500000e+00, 1.24256250e+01, 4.38003281e+01,\n",
       "        1.54396157e+02],\n",
       "       [1.00000000e+00, 2.82170000e+00, 7.96199089e+00, 2.24663497e+01,\n",
       "        6.33932989e+01],\n",
       "       [1.00000000e+00, 5.37040000e+00, 2.88411962e+01, 1.54888760e+02,\n",
       "        8.31814596e+02],\n",
       "       [1.00000000e+00, 4.95940000e+00, 2.45956484e+01, 1.21979658e+02,\n",
       "        6.04945918e+02],\n",
       "       [1.00000000e+00, 4.33500000e+00, 1.87922250e+01, 8.14642954e+01,\n",
       "        3.53147720e+02],\n",
       "       [1.00000000e+00, 3.41040000e+00, 1.16308282e+01, 3.96657764e+01,\n",
       "        1.35276164e+02],\n",
       "       [1.00000000e+00, 6.00300000e+00, 3.60360090e+01, 2.16324162e+02,\n",
       "        1.29859394e+03],\n",
       "       [1.00000000e+00, 3.80000000e+00, 1.44400000e+01, 5.48720000e+01,\n",
       "        2.08513600e+02]])"
      ]
     },
     "execution_count": 33,
     "metadata": {},
     "output_type": "execute_result"
    }
   ],
   "source": [
    "x_poly"
   ]
  },
  {
   "cell_type": "code",
   "execution_count": 34,
   "metadata": {},
   "outputs": [
    {
     "data": {
      "text/plain": [
       "LinearRegression()"
      ]
     },
     "execution_count": 34,
     "metadata": {},
     "output_type": "execute_result"
    }
   ],
   "source": [
    "regressor1 = LinearRegression()\n",
    "regressor1.fit(x_poly,y_train)"
   ]
  },
  {
   "cell_type": "code",
   "execution_count": 35,
   "metadata": {},
   "outputs": [
    {
     "data": {
      "image/png": "[encoded data removed]",
      "text/plain": [
       "<Figure size 432x288 with 1 Axes>"
      ]
     },
     "metadata": {
      "needs_background": "light"
     },
     "output_type": "display_data"
    }
   ],
   "source": [
    "# Visualitaion\n",
    "\n",
    "plt.scatter(x_train,y_train,color='red')\n",
    "plt.plot(x_train,regressor1.predict(polynomial_features.fit_transform(x_train)),color='blue')\n",
    "plt.show()"
   ]
  },
  {
   "cell_type": "code",
   "execution_count": 36,
   "metadata": {},
   "outputs": [],
   "source": [
    "y_pred = regressor1.predict(polynomial_features.fit_transform(x_test))"
   ]
  },
  {
   "cell_type": "code",
   "execution_count": 37,
   "metadata": {},
   "outputs": [
    {
     "data": {
      "text/plain": [
       "0.7676201122277835"
      ]
     },
     "execution_count": 37,
     "metadata": {},
     "output_type": "execute_result"
    }
   ],
   "source": [
    "# accuracy metrics\n",
    "from sklearn.metrics import r2_score\n",
    "r2score = r2_score(y_test, y_pred)\n",
    "r2score"
   ]
  },
  {
   "cell_type": "code",
   "execution_count": 25,
   "metadata": {},
   "outputs": [
    {
     "data": {
      "text/plain": [
       "0.739595402766277"
      ]
     },
     "execution_count": 25,
     "metadata": {},
     "output_type": "execute_result"
    }
   ],
   "source": [
    "# accuracy metrics\n",
    "from sklearn.metrics import r2_score\n",
    "r2score = r2_score(y_test, regressor.predict(x_test))\n",
    "r2score"
   ]
  },
  {
   "cell_type": "code",
   "execution_count": null,
   "metadata": {},
   "outputs": [],
   "source": []
  }
 ],
 "metadata": {
  "kernelspec": {
   "display_name": "Python 3 (ipykernel)",
   "language": "python",
   "name": "python3"
  },
  "language_info": {
   "codemirror_mode": {
    "name": "ipython",
    "version": 3
   },
   "file_extension": ".py",
   "mimetype": "text/x-python",
   "name": "python",
   "nbconvert_exporter": "python",
   "pygments_lexer": "ipython3",
   "version": "3.10.0"
  }
 },
 "nbformat": 4,
 "nbformat_minor": 4
}
